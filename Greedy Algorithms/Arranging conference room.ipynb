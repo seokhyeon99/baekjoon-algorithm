{
 "cells": [
  {
   "cell_type": "code",
   "execution_count": null,
   "metadata": {},
   "outputs": [],
   "source": [
    "number = int(input())\n",
    "conf = []\n",
    "for i in range(number):\n",
    "    conf.append(input())\n",
    "\n",
    "#최단시간 순서대로 정렬 후, 넣을 수 있는지 비교해서 넣기.\n",
    "#매 회의 삽입마다 해당 회의를 제외하고 알고리즘을 돌렸을때 더 큰 숫자가 나올경우 제거."
   ]
  },
  {
   "cell_type": "code",
   "execution_count": 11,
   "metadata": {},
   "outputs": [
    {
     "name": "stdout",
     "output_type": "stream",
     "text": [
      "[4, 6]\n"
     ]
    }
   ],
   "source": [
    "a = ['1 3','4 6']\n",
    "b = list(map(int, a[1].split()))\n",
    "print(b)"
   ]
  },
  {
   "cell_type": "code",
   "execution_count": null,
   "metadata": {},
   "outputs": [],
   "source": [
    "def arg(lst):\n",
    "    for i in range(len(lst)):\n",
    "        tuple lst_difference\n",
    "        lst_time = list(map(int, lst[i].split()))\n",
    "        lst_difference.append(i, lst_time[1] - lst_time[0])"
   ]
  }
 ],
 "metadata": {
  "kernelspec": {
   "display_name": "Python 3",
   "language": "python",
   "name": "python3"
  },
  "language_info": {
   "codemirror_mode": {
    "name": "ipython",
    "version": 3
   },
   "file_extension": ".py",
   "mimetype": "text/x-python",
   "name": "python",
   "nbconvert_exporter": "python",
   "pygments_lexer": "ipython3",
   "version": "3.8.5"
  }
 },
 "nbformat": 4,
 "nbformat_minor": 4
}
